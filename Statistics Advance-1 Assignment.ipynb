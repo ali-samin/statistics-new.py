{
 "cells": [
  {
   "cell_type": "markdown",
   "id": "c932cdaa",
   "metadata": {},
   "source": [
    "#### Q1. What is the Probability density function?"
   ]
  },
  {
   "cell_type": "markdown",
   "id": "32af604d",
   "metadata": {},
   "source": [
    "The Probability Density Function (PDF) describes the likelihood of a continuous random variable taking on specific values within a given range. It's a non-negative function where the total area under the curve equals 1. It helps in understanding the probabilities of different outcomes for continuous random variables."
   ]
  },
  {
   "cell_type": "markdown",
   "id": "a1d2cf42",
   "metadata": {},
   "source": [
    "."
   ]
  },
  {
   "cell_type": "markdown",
   "id": "ceb60b18",
   "metadata": {},
   "source": [
    "#### Q2. What are the types of Probability distribution?"
   ]
  },
  {
   "cell_type": "markdown",
   "id": "78dbe94b",
   "metadata": {},
   "source": [
    "Types of Probability distribution: \n",
    "- Noram Gaussian Distribution\n",
    "- Bernaurli Distribution \n",
    "- Uniform Distribution\n",
    "- Poisson Distribution\n",
    "- Log Normal Distribution \n",
    "- Bionomial Distribution"
   ]
  },
  {
   "cell_type": "markdown",
   "id": "0b67c352",
   "metadata": {},
   "source": [
    "."
   ]
  },
  {
   "cell_type": "markdown",
   "id": "bbb53de6",
   "metadata": {},
   "source": [
    "#### Q3. Write a Python function to calculate the probability density function of a normal distribution with given mean and standard deviation at a given point."
   ]
  },
  {
   "cell_type": "code",
   "execution_count": 1,
   "id": "dc910360",
   "metadata": {},
   "outputs": [
    {
     "name": "stdout",
     "output_type": "stream",
     "text": [
      "PDF at x = 1 : 0.24197072451914337\n"
     ]
    }
   ],
   "source": [
    "from scipy.stats import norm\n",
    "\n",
    "def normal_pdf(x, mean, std_dev):\n",
    "    \"\"\"\n",
    "    Calculate the probability density function (PDF) of a normal distribution\n",
    "    at a given point x with the specified mean and standard deviation.\n",
    "\n",
    "    - x: The point at which to calculate the PDF.\n",
    "    - mean: The mean of the normal distribution.\n",
    "    - std_dev: The standard deviation of the normal distribution.\n",
    "\n",
    "    \"\"\"\n",
    "    pdf = norm.pdf(x, loc=mean, scale=std_dev)\n",
    "    return pdf\n",
    "\n",
    "mean = 0  # Mean\n",
    "std_dev = 1  # Standard deviation\n",
    "x = 1  # Point at which to calculate the PDF\n",
    "\n",
    "pdf_value = normal_pdf(x, mean, std_dev)\n",
    "print(\"PDF at x =\", x, \":\", pdf_value)4"
   ]
  },
  {
   "cell_type": "markdown",
   "id": "df43f2d2",
   "metadata": {},
   "source": [
    "."
   ]
  },
  {
   "cell_type": "markdown",
   "id": "647addf5",
   "metadata": {},
   "source": [
    "#### Q4. What are the properties of Binomial distribution? Give two examples of events where binomial distribution can be applied."
   ]
  },
  {
   "cell_type": "markdown",
   "id": "7aa401d1",
   "metadata": {},
   "source": [
    "The Binomial distribution is characterized by the following properties:\n",
    "\n",
    "- Fixed Number of Trials (n): The distribution models a fixed number of independent trials, denoted by n.\n",
    "- Two Possible Outcomes: Each trial has only two possible outcomes, often labeled as success (usually denoted by p) and failure (usually denoted by q, where q=1−p).\n",
    "- Constant Probability of Success (p): The probability of success remains constant across all trials."
   ]
  },
  {
   "cell_type": "markdown",
   "id": "f741f502",
   "metadata": {},
   "source": [
    "Examples where the Binomial distribution can be applied include:\n",
    "   - Tossing a coin\n",
    "   - Product Defects"
   ]
  },
  {
   "cell_type": "markdown",
   "id": "5e3f5ee1",
   "metadata": {},
   "source": [
    "."
   ]
  },
  {
   "cell_type": "markdown",
   "id": "0173d7fd",
   "metadata": {},
   "source": [
    "#### Q5. Generate a random sample of size 1000 from a binomial distribution with probability of success 0.4 and plot a histogram of the results using matplotlib."
   ]
  },
  {
   "cell_type": "code",
   "execution_count": 25,
   "id": "be1ce5f5",
   "metadata": {},
   "outputs": [
    {
     "data": {
      "image/png": "[encoded data removed]",
      "text/plain": [
       "<Figure size 640x480 with 1 Axes>"
      ]
     },
     "metadata": {},
     "output_type": "display_data"
    }
   ],
   "source": [
    "import numpy as np\n",
    "import matplotlib.pyplot as plt\n",
    "\n",
    "# Parameters\n",
    "n = 1000  # Sample size\n",
    "p = 0.4   # Probability of success\n",
    "\n",
    "# Generate random sample from binomial distribution\n",
    "random_sample = np.random.binomial(n=1, p=p, size=n)\n",
    "\n",
    "# Plot histogram\n",
    "plt.hist(random_sample, bins=2, color='blue', edgecolor='black')\n",
    "plt.title('Histogram of Random Sample from Binomial Distribution')\n",
    "plt.xlabel('Outcome (0: Failure, 1: Success)')\n",
    "plt.ylabel('Frequency')\n",
    "plt.xticks([0, 1], ['Failure', 'Success'])\n",
    "plt.show()\n"
   ]
  },
  {
   "cell_type": "markdown",
   "id": "ca6ccef9",
   "metadata": {},
   "source": [
    "."
   ]
  },
  {
   "cell_type": "markdown",
   "id": "25598a01",
   "metadata": {},
   "source": [
    "#### Q6. Write a Python function to calculate the cumulative distribution function of a Poisson distribution with given mean at a given point."
   ]
  },
  {
   "cell_type": "code",
   "execution_count": 26,
   "id": "fc53ae44",
   "metadata": {},
   "outputs": [
    {
     "name": "stdout",
     "output_type": "stream",
     "text": [
      "CDF at x = 2 : 0.42319008112684364\n"
     ]
    }
   ],
   "source": [
    "from scipy.stats import poisson\n",
    "\n",
    "def poisson_cdf(x, mean):\n",
    "    \"\"\"\n",
    "    Calculate the cumulative distribution function (CDF) of a Poisson distribution\n",
    "    at a given point x with the specified mean.\n",
    "\n",
    "    - x: The point at which to calculate the CDF.\n",
    "    - mean: The mean of the Poisson distribution.\n",
    "\n",
    "    \"\"\"\n",
    "    cdf = poisson.cdf(x, mu=mean)\n",
    "    return cdf\n",
    "\n",
    "mean = 3  # Mean of the Poisson distribution\n",
    "x = 2  # Point at which to calculate the CDF\n",
    "\n",
    "cdf_value = poisson_cdf(x, mean)\n",
    "print(\"CDF at x =\", x, \":\", cdf_value)\n"
   ]
  },
  {
   "cell_type": "markdown",
   "id": "a2ec7b3b",
   "metadata": {},
   "source": [
    "."
   ]
  },
  {
   "cell_type": "markdown",
   "id": "38c23505",
   "metadata": {},
   "source": [
    "#### Q7. How Binomial distribution different from Poisson distribution?"
   ]
  },
  {
   "cell_type": "markdown",
   "id": "fdf611aa",
   "metadata": {},
   "source": [
    "\n",
    "Binomial Distribution:\n",
    "  - Fixed number of trials (n).\n",
    "  - Constant probability of success (p) for each trial.\n",
    "  - Used when there are a fixed number of independent trials with two possible outcomes.\n",
    "  \n",
    "  \n",
    "\n",
    "Poisson Distribution:\n",
    "  - No fixed number of trials; instead, it models the number of events occurring in a fixed interval.\n",
    "  - Characterized by the average rate of occurrence (λ).\n",
    "  - Used when the number of events is rare but the average rate of occurrence is known."
   ]
  },
  {
   "cell_type": "markdown",
   "id": "4283c464",
   "metadata": {},
   "source": [
    "."
   ]
  },
  {
   "cell_type": "markdown",
   "id": "eaf10748",
   "metadata": {},
   "source": [
    "#### Q8. Generate a random sample of size 1000 from a Poisson distribution with mean 5 and calculate the sample mean and variance."
   ]
  },
  {
   "cell_type": "code",
   "execution_count": 47,
   "id": "d7327901",
   "metadata": {},
   "outputs": [
    {
     "name": "stdout",
     "output_type": "stream",
     "text": [
      "Sample Mean: 5.041\n",
      "Sample Variance: 5.101318999999999\n"
     ]
    }
   ],
   "source": [
    "import numpy as np\n",
    "\n",
    "sample_size = 1000\n",
    "mean = 5  # Mean of the Poisson distribution\n",
    "\n",
    "# 1000 random sample\n",
    "random_sample = np.random.poisson(mean, size=sample_size)\n",
    "\n",
    "# Calculate sample mean and variance\n",
    "sample_mean = np.mean(random_sample)\n",
    "sample_variance = np.var(random_sample)\n",
    "\n",
    "print(\"Sample Mean:\", sample_mean)\n",
    "print(\"Sample Variance:\", sample_variance)"
   ]
  },
  {
   "cell_type": "markdown",
   "id": "a0838b9d",
   "metadata": {},
   "source": [
    "."
   ]
  },
  {
   "cell_type": "markdown",
   "id": "f0a241c0",
   "metadata": {},
   "source": [
    "#### Q9. How mean and variance are related in Binomial distribution and Poisson distribution?"
   ]
  },
  {
   "cell_type": "markdown",
   "id": "13a78a1a",
   "metadata": {},
   "source": [
    "In the Binomial distribution, the variance depends on both the number of trials (n) and the probability of success (p), while in the Poisson distribution, the variance is solely determined by the mean (lambda). "
   ]
  },
  {
   "cell_type": "markdown",
   "id": "bcc155c2",
   "metadata": {},
   "source": [
    "."
   ]
  },
  {
   "cell_type": "markdown",
   "id": "3610ab5e",
   "metadata": {},
   "source": [
    "#### Q10. In normal distribution with respect to mean position, where does the least frequent data appear?"
   ]
  },
  {
   "cell_type": "markdown",
   "id": "8ab887de",
   "metadata": {},
   "source": [
    "In a normal distribution, also known as a Gaussian distribution, the probability density function is symmetric around the mean. This means that the data are equally distributed on both sides of the mean. Therefore, there is no specific position relative to the mean where the least frequent data appear.\n",
    "\n",
    "However, as we move away from the mean towards the tails of the distribution, the density of data decreases. This means that data points located further away from the mean are less frequent compared to those closer to the mean. The least frequent data points would typically appear in the extreme tails of the distribution, farthest from the mean."
   ]
  },
  {
   "cell_type": "code",
   "execution_count": null,
   "id": "aaca1f28",
   "metadata": {},
   "outputs": [],
   "source": []
  }
 ],
 "metadata": {
  "kernelspec": {
   "display_name": "Python 3 (ipykernel)",
   "language": "python",
   "name": "python3"
  },
  "language_info": {
   "codemirror_mode": {
    "name": "ipython",
    "version": 3
   },
   "file_extension": ".py",
   "mimetype": "text/x-python",
   "name": "python",
   "nbconvert_exporter": "python",
   "pygments_lexer": "ipython3",
   "version": "3.11.4"
  }
 },
 "nbformat": 4,
 "nbformat_minor": 5
}
