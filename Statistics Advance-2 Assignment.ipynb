{
 "cells": [
  {
   "cell_type": "markdown",
   "id": "976f003e",
   "metadata": {},
   "source": [
    "#### Q1: What are the Probability Mass Function (PMF) and Probability Density Function (PDF)? Explain with an example."
   ]
  },
  {
   "cell_type": "markdown",
   "id": "33267404",
   "metadata": {},
   "source": [
    "The Probability Mass Function (PMF) and Probability Density Function (PDF) are both mathematical functions used in probability theory and statistics to describe the distribution of a random variable. However, they are used for different types of random variables: discrete and continuous, respectively.\n",
    "\n",
    "Probability Mass Function (PMF):\n",
    "The PMF is a function that gives the probability that a discrete random variable is exactly equal to some value. In other words, it maps each possible value of the discrete random variable to its probability of occurrence.\n",
    "\n",
    "for Example: Rolling a Fair Six-Sided Die\n",
    "Let's consider the random variable (X) representing the outcome of rolling a fair six-sided die. The PMF of this random variable (X) would be:\n",
    "\n",
    "P(X = x) = 1/6 for x = 1, 2, 3, 4, 5, 6\n",
    "\n",
    "This PMF indicates that each outcome (1, 2, 3, 4, 5, or 6) has an equal probability of 1/6 of occurring when rolling a fair six-sided die.\n",
    "\n",
    "Probability Density Function (PDF):\n",
    "The PDF is a function that describes the likelihood of a continuous random variable taking on a particular value within a given range. Unlike the PMF, the PDF does not directly give the probability of the variable being exactly equal to a specific value, but rather the probability density around that value.\n",
    "\n",
    "for Example: Normal Distribution\n",
    "Consider a continuous random variable (Y) following a standard normal distribution (mean= 0) and standard deviation sigma = 1. The PDF of this random variable (Y) is given by the bell-shaped curve described by the standard normal distribution."
   ]
  },
  {
   "cell_type": "markdown",
   "id": "9ae8b2fc",
   "metadata": {},
   "source": [
    "."
   ]
  },
  {
   "cell_type": "markdown",
   "id": "1d81ec28",
   "metadata": {},
   "source": [
    "#### Q2: What is Cumulative Density Function (CDF)? Explain with an example. Why CDF is used?"
   ]
  },
  {
   "cell_type": "markdown",
   "id": "086ff4be",
   "metadata": {},
   "source": [
    "The Cumulative Density Function (CDF) is a function that gives the probability that a random variable X is less than or equal to a certain value x. In other words, it represents the cumulative probability of the random variable taking on values less than or equal to x."
   ]
  },
  {
   "cell_type": "markdown",
   "id": "70213d85",
   "metadata": {},
   "source": [
    "The CDF provides a way to determine the probability of a random variable falling within a certain range, which is useful for understanding the distribution of the random variable and making probabilistic predictions."
   ]
  },
  {
   "cell_type": "markdown",
   "id": "22eb6d29",
   "metadata": {},
   "source": [
    "Example: Coin Toss\n",
    "Consider a random variable X representing the outcome of a fair coin toss. The possible outcomes of X are either \"heads\" or \"tails\".\n",
    "This CDF indicates that the probability of getting a value less than 0 (which is not possible in this case) is 0, the probability of getting a value less than 1 (either \"heads\" or \"tails\") is 0.5, and the probability of getting a value less than or equal to 1 (i.e., either \"heads\" or \"tails\") is 1."
   ]
  },
  {
   "cell_type": "markdown",
   "id": "4cee675b",
   "metadata": {},
   "source": [
    "\n",
    "The CDF is used for:\n",
    "\n",
    "1. Probability Calculation\n",
    "\n",
    "2. Comparison of Distributions\n",
    "\n",
    "3. Quantifying Risk\n",
    "\n",
    "4. Random Variable Modeling"
   ]
  },
  {
   "cell_type": "markdown",
   "id": "9fdbacd5",
   "metadata": {},
   "source": [
    "#### Q3: What are some examples of situations where the normal distribution might be used as a model? Explain how the parameters of the normal distribution relate to the shape of the distribution."
   ]
  },
  {
   "cell_type": "markdown",
   "id": "4fcb0aa4",
   "metadata": {},
   "source": [
    "\n",
    "1. Examples of Normal Distribution:\n",
    "   - Biological measurements like height and weight\n",
    "   - Psychological traits such as IQ scores\n",
    "   - Financial data like stock prices\n",
    "   - Measurement errors in instruments\n",
    "   - Test scores on standardized exams\n",
    "   \n",
    "2. Parameters and Shape:\n",
    "   - Mean (mu): Determines the center of the distribution.\n",
    "   - Standard Deviation (sigma): Controls the spread or variability around the mean.\n",
    "   - Increasing the mean shifts the distribution to the right, while increasing the standard deviation makes it wider and flatter, and decreasing it makes it narrower and taller."
   ]
  },
  {
   "cell_type": "markdown",
   "id": "c80d3517",
   "metadata": {},
   "source": [
    "."
   ]
  },
  {
   "cell_type": "markdown",
   "id": "24c13fda",
   "metadata": {},
   "source": [
    "#### Q4: Explain the importance of Normal Distribution. Give a few real-life examples of Normal Distribution."
   ]
  },
  {
   "cell_type": "markdown",
   "id": "35f21405",
   "metadata": {},
   "source": [
    "\n",
    "1. Central Limit Theorem (CLT): Normal distribution is a key result of the CLT, making it fundamental for statistical inference.\n",
    "  \n",
    "2. Statistical Methods: Many statistical methods rely on normality assumptions for accurate results.\n",
    "  \n",
    "3. Modeling Natural Phenomena: Normal distribution simplifies modeling various natural and human-made processes.\n",
    "  \n",
    "4. Process Control: Useful in setting control limits and improving process efficiency.\n",
    "  \n",
    "5. Risk Management: Assumed in financial models for risk assessment and management.\n",
    "\n",
    "Real-life examples include heights and weights, IQ scores, exam scores, measurement errors, and stock prices."
   ]
  },
  {
   "cell_type": "markdown",
   "id": "3da4e121",
   "metadata": {},
   "source": [
    "."
   ]
  },
  {
   "cell_type": "markdown",
   "id": "b0117596",
   "metadata": {},
   "source": [
    "#### Q5: What is Bernaulli Distribution? Give an Example. What is the difference between Bernoulli Distribution and Binomial Distribution?"
   ]
  },
  {
   "cell_type": "markdown",
   "id": "517c24cb",
   "metadata": {},
   "source": [
    "The Bernoulli distribution is a discrete probability distribution that models a random experiment with only two possible outcomes: success and failure. It is named after Swiss mathematician Jacob Bernoulli, who introduced it in the 18th century. The distribution is characterized by a single parameter p, which represents the probability of success on a single trial"
   ]
  },
  {
   "cell_type": "markdown",
   "id": "9234c95e",
   "metadata": {},
   "source": [
    "Example:\n",
    "Consider a single coin flip, where success (1) represents getting heads and failure (0) represents getting tails. If the probability of getting heads is ( p = 0.6 ), then the Bernoulli distribution for this experiment would be:\n",
    "- P(X = 1) = 0.6\n",
    "- P(X = 0) = 0.4"
   ]
  },
  {
   "cell_type": "markdown",
   "id": "0280dfcd",
   "metadata": {},
   "source": [
    "Difference between Bernoulli Distribution and Binomial Distribution:**\n",
    "1. Number of Trials\n",
    "- Bernoulli Distribution: Represents a single trial or experiment with two possible outcomes.\n",
    "- Binomial Distribution: Represents the number of successes in a fixed number of independent trials, each following a Bernoulli distribution.\n",
    "2. Parameters\n",
    "- Bernoulli Distribution: Has a single parameter (p), representing the probability of success in a single trial.\n",
    "- Binomial Distribution: Has two parameters: (n), the number of trials, and (p), the probability of success in each trial.\n",
    "3. Outcome\n",
    "- *ernoulli Distribution: Gives the outcome of a single trial (either success or failure).\n",
    "- Binomial Distribution: Gives the total number of successes in (n) independent trials.\n",
    "In summary, the Bernoulli distribution models the outcome of a single trial with two possible outcomes, while the binomial distribution extends this concept to multiple trials, representing the number of successes in a fixed number of independent trials."
   ]
  },
  {
   "cell_type": "markdown",
   "id": "a15cd640",
   "metadata": {},
   "source": [
    "."
   ]
  },
  {
   "cell_type": "markdown",
   "id": "4c917f0b",
   "metadata": {},
   "source": [
    "#### Q6. Consider a dataset with a mean of 50 and a standard deviation of 10. If we assume that the dataset is normally distributed, what is the probability that a randomly selected observation will be greater than 60? Use the appropriate formula and show your calculations."
   ]
  },
  {
   "cell_type": "markdown",
   "id": "d8ee62e8",
   "metadata": {},
   "source": [
    "To find the probability that a randomly selected observation from a normally distributed dataset with a mean of 50 and a standard deviation sigma of 10 will be greater than 60, we can use the standard normal distribution (z-score) and then convert it back to the original scale.\n",
    "Z = ( x - mean )/ standard deviation\n",
    "where\n",
    "- x is the value we want to find the probability for (in this case, 60).\n",
    "- the mean of the dataset (50).\n",
    "- standard deviation of the dataset (10).\n",
    "\n",
    "so the calculated Z-score is 1"
   ]
  },
  {
   "cell_type": "markdown",
   "id": "520e17ec",
   "metadata": {},
   "source": [
    "Next, we find the probability corresponding to this z-score using a standard normal distribution table or a calculator. The probability P(Z > 1) represents the area under the standard normal distribution curve to the right of the z-score of 1.\n",
    "value for z score in the table is 0.8413\n",
    "\n",
    "Using a standard normal distribution table, we find that P(Z > 1) is approximately 0.1587.\n",
    "\n",
    "Therefore, the probability that a randomly selected observation from the dataset will be greater than 60 is approximately 0.1587."
   ]
  },
  {
   "cell_type": "markdown",
   "id": "ee0b050d",
   "metadata": {},
   "source": [
    "."
   ]
  },
  {
   "cell_type": "markdown",
   "id": "2fc560ce",
   "metadata": {},
   "source": [
    "#### Q7: Explain uniform Distribution with an example."
   ]
  },
  {
   "cell_type": "markdown",
   "id": "61b5bf52",
   "metadata": {},
   "source": [
    "The uniform distribution is a continuous probability distribution where all outcomes in a given range are equally likely to occur. In other words, every value within the specified interval has the same probability of occurring.\n",
    "\n",
    "Probability Density Function (PDF) of Uniform Distribution:\n",
    "\n",
    "The PDF of a uniform distribution over the interval (a, b) is defined as:\n",
    "\n",
    "f(x) = 1 / (b-a)\n",
    "\n",
    "Example: Rolling a Fair Six-Sided Die\n",
    "\n",
    "Consider rolling a fair six-sided die. Each outcome (1, 2, 3, 4, 5, or 6) has an equal probability of occurring, which can be modeled using a uniform distribution over the interval (1, 6).\n",
    "\n",
    "In this example, the probability of obtaining any specific outcome (1, 2, 3, 4, 5, or 6) is 1/6, and the PDF of the uniform distribution is:\n",
    "\n",
    "f(x) = 1/(6 - 1) = 1/5"
   ]
  },
  {
   "cell_type": "markdown",
   "id": "3e4b8f35",
   "metadata": {},
   "source": [
    "."
   ]
  },
  {
   "cell_type": "markdown",
   "id": "5b2412c6",
   "metadata": {},
   "source": [
    "#### Q8: What is the z score? State the importance of the z score."
   ]
  },
  {
   "cell_type": "markdown",
   "id": "52b3c633",
   "metadata": {},
   "source": [
    "The z-score, also known as the standard score or z-value, is a statistical measure that indicates how many standard deviations a data point is from the mean of the dataset. It is calculated by subtracting the mean from the data point and then dividing by the standard deviation.\n",
    "\n",
    "\n",
    "3. Importance:\n",
    "   - Standardizes data for comparison.\n",
    "   - Identifies outliers.\n",
    "   - Helps in probability calculation and hypothesis testing.\n",
    "   - Used in quality control and research analysis."
   ]
  },
  {
   "cell_type": "markdown",
   "id": "e4245541",
   "metadata": {},
   "source": [
    "."
   ]
  },
  {
   "cell_type": "markdown",
   "id": "9a25532f",
   "metadata": {},
   "source": [
    "#### Q9: What is Central Limit Theorem? State the significance of the Central Limit Theorem."
   ]
  },
  {
   "cell_type": "markdown",
   "id": "166732f6",
   "metadata": {},
   "source": [
    "The Central Limit Theorem (CLT) is a fundamental theorem in probability theory and statistics. It states that the sampling distribution of the sample mean of a random variable approaches a normal distribution as the sample size increases, regardless of the shape of the original population distribution, as long as the sample size is sufficiently large.\n",
    "\n",
    "Significance of the Central Limit Theorem:\n",
    "\n",
    "Statistical Inference\n",
    "\n",
    "Real-world Applications\n",
    "\n",
    "Quality Control\n",
    "\n",
    "Sampling\n",
    "\n",
    "Estimation"
   ]
  },
  {
   "cell_type": "markdown",
   "id": "7753485b",
   "metadata": {},
   "source": [
    "."
   ]
  },
  {
   "cell_type": "markdown",
   "id": "94d1f4a2",
   "metadata": {},
   "source": [
    "#### Q10: State the assumptions of the Central Limit Theorem."
   ]
  },
  {
   "cell_type": "markdown",
   "id": "eff08b56",
   "metadata": {},
   "source": [
    "The Central Limit Theorem (CLT) is a powerful statistical theorem, but it comes with certain assumptions for its applicability. The main assumptions of the Central Limit Theorem are as follows:\n",
    "\n",
    "Independence: The observations in the sample must be independent of each other. This means that the outcome of one observation should not influence the outcome of another observation.\n",
    "\n",
    "Identically Distributed: The observations should be drawn from the same probability distribution. This ensures that the samples are consistent and comparable.\n",
    "\n",
    "Finite Variance: The random variables should have finite variance. In other words, the variability of the data should not be infinite.\n",
    "\n",
    "Sample Size: The sample size should be sufficiently large. While there is no strict rule for what constitutes a \"sufficiently large\" sample size, a commonly cited guideline is that the sample size should be at least 30. However, the larger the sample size, the better the approximation to the normal distribution.\n"
   ]
  },
  {
   "cell_type": "code",
   "execution_count": null,
   "id": "f5a63f55",
   "metadata": {},
   "outputs": [],
   "source": []
  }
 ],
 "metadata": {
  "kernelspec": {
   "display_name": "Python 3 (ipykernel)",
   "language": "python",
   "name": "python3"
  },
  "language_info": {
   "codemirror_mode": {
    "name": "ipython",
    "version": 3
   },
   "file_extension": ".py",
   "mimetype": "text/x-python",
   "name": "python",
   "nbconvert_exporter": "python",
   "pygments_lexer": "ipython3",
   "version": "3.11.4"
  }
 },
 "nbformat": 4,
 "nbformat_minor": 5
}
