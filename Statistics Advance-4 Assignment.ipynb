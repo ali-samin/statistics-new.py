{
 "cells": [
  {
   "cell_type": "markdown",
   "id": "f46ba407",
   "metadata": {},
   "source": [
    "#### Q1: What is the difference between a t-test and a z-test? Provide an example scenario where you would use each type of test."
   ]
  },
  {
   "cell_type": "markdown",
   "id": "4c3b89da",
   "metadata": {},
   "source": [
    "\n",
    "A t-test and a z-test are both statistical hypothesis tests used to determine whether there is a significant difference between the means of two groups.\n",
    "\n",
    "T-test:\n",
    "\n",
    "- Applicability: Typically used when the sample size is small (less than 30) or when the population standard deviation is unknown.\n",
    "- Assumption: Assumes that the data are approximately normally distributed.\n",
    "- Example Scenario: Suppose we want to test whether there is a significant difference in the average test scores between two groups of students who underwent different teaching methods (Group A and Group B) with sample sizes less than 30. In this case, we would use a t-test to determine if the difference in means is statistically significant."
   ]
  },
  {
   "cell_type": "markdown",
   "id": "a3654ee4",
   "metadata": {},
   "source": [
    "Z-test:\n",
    "\n",
    "- Applicability: Used when the sample size is large (typically greater than 30) and the population standard deviation is known.\n",
    "- Assumption: Assumes that the data are normally distributed.\n",
    "- Example Scenario: Imagine we want to compare the average heights of two different populations (e.g., males and females) where the sample sizes are large (more than 30) and the population standard deviations are known. Here, we can use a z-test to determine if the difference in means is statistically significant."
   ]
  },
  {
   "cell_type": "markdown",
   "id": "8b4bcdbc",
   "metadata": {},
   "source": [
    "."
   ]
  },
  {
   "cell_type": "markdown",
   "id": "21e7e301",
   "metadata": {},
   "source": [
    "#### Q2: Differentiate between one-tailed and two-tailed tests."
   ]
  },
  {
   "cell_type": "markdown",
   "id": "6b3e4383",
   "metadata": {},
   "source": [
    "\n",
    "One-tailed and two-tailed tests refer to the directionality of the hypothesis being tested in a statistical analysis.\n",
    "- One-tailed test: Tests for a difference in one direction only, either greater than or less than a certain value.\n",
    "- Two-tailed test: Tests for a difference in either direction, greater than or less than a certain value."
   ]
  },
  {
   "cell_type": "markdown",
   "id": "7565e7b4",
   "metadata": {},
   "source": [
    "."
   ]
  },
  {
   "cell_type": "markdown",
   "id": "42c54c48",
   "metadata": {},
   "source": [
    "#### Q3: Explain the concept of Type 1 and Type 2 errors in hypothesis testing. Provide an example scenario for each type of error."
   ]
  },
  {
   "cell_type": "markdown",
   "id": "4e6f5720",
   "metadata": {},
   "source": [
    "In hypothesis testing, Type I and Type II errors represent the two potential mistakes researchers can make when making decisions about the null hypothesis.\n",
    "\n",
    "Type I Error:\n",
    "\n",
    "- Definition: Type I error occurs when the null hypothesis (H0) is incorrectly rejected when it is actually true. In other words, it's a false positive.\n",
    "- Probability: Denoted by α (alpha), the significance level, which is the probability of making a Type I error.\n",
    "- Example Scenario: Suppose a medical researcher is testing a new drug to see if it's effective at treating a certain condition. They set a significance level (α) of 0.05. If they observe a significant difference in patient outcomes between the drug and control groups and conclude that the drug is effective when, in reality, it's not, they have committed a Type I error.\n",
    "\n",
    "Type II Error:\n",
    "\n",
    "- Definition: Type II error occurs when the null hypothesis (H0) is incorrectly accepted when it is actually false. In other words, it's a false negative.\n",
    "- Probability: Denoted by β (beta), which is the probability of making a Type II error. The power of a statistical test (1 - β) represents the probability of correctly rejecting a false null hypothesis.\n",
    "- Example Scenario: Continuing with the example above, if the researcher fails to observe a significant difference in patient outcomes between the drug and control groups and concludes that the drug is not effective when, in reality, it is, they have committed a Type II error."
   ]
  },
  {
   "cell_type": "markdown",
   "id": "9a33305f",
   "metadata": {},
   "source": [
    "."
   ]
  },
  {
   "cell_type": "markdown",
   "id": "fd0cb1a3",
   "metadata": {},
   "source": [
    "#### Q4: Explain Bayes's theorem with an example."
   ]
  },
  {
   "cell_type": "markdown",
   "id": "71272414",
   "metadata": {},
   "source": [
    "ayes's theorem is a fundamental concept in probability theory that describes how to update the probability of a hypothesis based on new evidence.\n",
    "P(A|B) = ( P(B|A) x P(A) ) / P(B)\n",
    "where:\n",
    "P(A∣B) is the probability of event A given event B.\n",
    "P(B∣A) is the probability of event B given event A.\n",
    "P(A) and P(B) are the probabilities of events A and B occurring independently."
   ]
  },
  {
   "cell_type": "markdown",
   "id": "83e63e77",
   "metadata": {},
   "source": [
    "Example:\n",
    "\n",
    "Let's say we have a diagnostic test for a disease, and we want to determine the probability that a person has the disease given that they tested positive. We can use Bayes's theorem to calculate this.\n",
    "- P(A): Probability of having the disease (prior probability).\n",
    "- P(B): Probability of testing positive.\n",
    "- P(A∣B): Probability of having the disease given a positive test result (posterior probability).\n",
    "- P(B∣A): Probability of testing positive given that the person has the disease."
   ]
  },
  {
   "cell_type": "markdown",
   "id": "77831c1b",
   "metadata": {},
   "source": [
    "."
   ]
  },
  {
   "cell_type": "markdown",
   "id": "67ded9fc",
   "metadata": {},
   "source": [
    "#### Q5: What is a confidence interval? How to calculate the confidence interval, explain with an example."
   ]
  },
  {
   "cell_type": "markdown",
   "id": "b005e561",
   "metadata": {},
   "source": [
    "\n",
    "A confidence interval is a range of values calculated from sample data that is likely to contain the true population parameter with a certain level of confidence. It provides a range of plausible values for the population parameter, rather than a single point estimate. The confidence level represents the probability that the interval contains the true parameter.\n",
    "\n",
    "The general formula to calculate a confidence interval for a population parameter (such as the population mean) is:\n",
    "\n",
    "Confidence Interval = Point Estimate +- Margin of Error\n",
    "\n",
    "Where:\n",
    "\n",
    "- Point Estimate: This is the sample statistic used to estimate the population parameter. For example, if estimating the population mean, the sample mean is used as the point estimate.\n",
    "- Margin of Error: This represents the amount added to and subtracted from the point estimate to create the interval. It's determined by the confidence level and the variability of the sample data."
   ]
  },
  {
   "cell_type": "markdown",
   "id": "269a0d20",
   "metadata": {},
   "source": [
    "."
   ]
  }
 ],
 "metadata": {
  "kernelspec": {
   "display_name": "Python 3 (ipykernel)",
   "language": "python",
   "name": "python3"
  },
  "language_info": {
   "codemirror_mode": {
    "name": "ipython",
    "version": 3
   },
   "file_extension": ".py",
   "mimetype": "text/x-python",
   "name": "python",
   "nbconvert_exporter": "python",
   "pygments_lexer": "ipython3",
   "version": "3.11.4"
  }
 },
 "nbformat": 4,
 "nbformat_minor": 5
}
