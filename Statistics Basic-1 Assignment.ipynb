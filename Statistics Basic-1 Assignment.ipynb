{
 "cells": [
  {
   "cell_type": "markdown",
   "id": "b04db290",
   "metadata": {},
   "source": [
    "#### Q1. What is Statistics?"
   ]
  },
  {
   "cell_type": "markdown",
   "id": "dac402e7",
   "metadata": {},
   "source": [
    "Statistics is the science of collecting , organising and analysing the data."
   ]
  },
  {
   "cell_type": "markdown",
   "id": "480755dc",
   "metadata": {},
   "source": [
    "."
   ]
  },
  {
   "cell_type": "markdown",
   "id": "18a77018",
   "metadata": {},
   "source": [
    "#### Q2. Define the different types of statistics and give an example of when each type might be used."
   ]
  },
  {
   "cell_type": "markdown",
   "id": "2a83dbed",
   "metadata": {},
   "source": [
    "1. Descriptive Statistics: Summarizes and describes characteristics of a dataset (e.g., mean, median, standard deviation). Example: Calculating the average age of students in a classroom.\n",
    "2. Inferential Statistics: Draws conclusions or makes predictions about a population based on a sample of data (e.g., hypothesis testing, regression analysis). Example: Determining if a new teaching method improves test scores compared to a traditional method through statistical analysis."
   ]
  },
  {
   "cell_type": "markdown",
   "id": "eab7dafb",
   "metadata": {},
   "source": [
    "."
   ]
  },
  {
   "cell_type": "markdown",
   "id": "0d054eff",
   "metadata": {},
   "source": [
    "#### Q3. What are the different types of data and how do they differ from each other? Provide an example of each type of data."
   ]
  },
  {
   "cell_type": "markdown",
   "id": "e5a4fc7e",
   "metadata": {},
   "source": [
    "Data is categories into two categories:\n",
    "\n",
    "    1. Quantitative : Quantitative data are numerical measurements or counts that represent quantities or amounts\n",
    "    2. Qualitative : Qualitative data are non-numerical and represent qualities or characteristics\n",
    "Quantative data can be further divided into two subtypes: discrete and continuous.\n",
    "\n",
    "\n",
    "Discrete : Discrete data are whole numbers that represent countable items.  Example, Number of bank accounts.\n",
    "\n",
    "\n",
    "Continuous : Continuous data are measurements that can take on any value within a range include fractional or decimal values. Example, include height, weight, temperature, and time.\n",
    "\n",
    "Qualitative data are divided into two subtypes: nominal and ordinal.\n",
    "\n",
    "Nominal:Nominal data are categorical data without any inherent order or ranking. Examples, include gender (male, female), eye color (blue, brown, green) etc.\n",
    "\n",
    "\n",
    "Ordinal : Ordinal data are categorical data with a meaningful order or ranking. Examples, include ratings (1-star, 2-star, 3-star), educational levels (high school, bachelor's degree, master's degree),  etc\n"
   ]
  },
  {
   "cell_type": "markdown",
   "id": "c6b9fc79",
   "metadata": {},
   "source": [
    "."
   ]
  },
  {
   "cell_type": "markdown",
   "id": "98c8b6fc",
   "metadata": {},
   "source": [
    "#### Q4. Categorise the following datasets with respect to quantitative and qualitative data types:\n",
    "(i) Grading in exam: A+, A, B+, B, C+, C, D, E\n",
    "(ii) Colour of mangoes: yellow, green, orange, red\n",
    "(iii) Height data of a class: [178.9, 179, 179.5, 176, 177.2, 178.3, 175.8,...]\n",
    "(iv) Number of mangoes exported by a farm: [500, 600, 478, 672, ...]"
   ]
  },
  {
   "cell_type": "markdown",
   "id": "3e850a16",
   "metadata": {},
   "source": [
    "Answer: \n",
    "\n",
    "(i). Qualitative(Ordinal)\n",
    "(ii). Qualitative(Nominal)\n",
    "(iii). Quantitative(Continious)\n",
    "(iv). Quantitative(Discrete)"
   ]
  },
  {
   "cell_type": "markdown",
   "id": "c951d958",
   "metadata": {},
   "source": [
    "."
   ]
  },
  {
   "cell_type": "markdown",
   "id": "d1df58d6",
   "metadata": {},
   "source": [
    "#### Q5. Explain the concept of levels of measurement and give an example of a variable for each level."
   ]
  },
  {
   "cell_type": "markdown",
   "id": "f9f0d2ee",
   "metadata": {},
   "source": [
    "Answer: \n",
    "\n",
    "Levels of measurement, also known as scales of measurement, refer to the different ways in which variables can be categorized or classified based on the nature of the data they represent.\n",
    "There are four main levels of measurement:\n",
    "\n",
    "1. Nominal:Nominal data are categorical data without any inherent order or ranking. Examples, include gender (male, female), eye color (blue, brown, green) etc.\n",
    "\n",
    "2. Ordinal : Ordinal data are categorical data with a meaningful order or ranking. Examples, include ratings (1-star, 2-star, 3-star), educational levels (high school, bachelor's degree, master's degree),  etc\n",
    "\n",
    "3. Interval : Interval level variables are numerical and have a meaningful order, with consistent intervals between values. However, they lack a true zero point, meaning that ratios are not meaningful. Example: Temperature in Celsius, 30F, 60F, 90F\n",
    "\n",
    "4. Ratiom : Ratio level variables are similar to interval variables but have a true zero point, where zero indicates the absence of the attribute being measured.Example: Height    150 cm, 160 cm, 170 cm, etc."
   ]
  },
  {
   "cell_type": "markdown",
   "id": "023371d4",
   "metadata": {},
   "source": [
    "."
   ]
  },
  {
   "cell_type": "markdown",
   "id": "853c12f9",
   "metadata": {},
   "source": [
    "#### Q6. Why is it important to understand the level of measurement when analyzing data? Provide an example to illustrate your answer."
   ]
  },
  {
   "cell_type": "markdown",
   "id": "847d7920",
   "metadata": {},
   "source": [
    "\n",
    "Understanding the level of measurement when analyzing data is important because it dictates which statistical analyses are appropriate, ensures accurate interpretation of results, helps avoid errors and misinterpretations, and provides insights into the nature of the data being studied. For instance, applying the wrong statistical test to data can lead to misleading conclusions. For example, nominal data cannot be averaged, so using parametric tests on them would be inappropriate and could lead to erroneous findings."
   ]
  },
  {
   "cell_type": "markdown",
   "id": "0329cf2d",
   "metadata": {},
   "source": [
    "."
   ]
  },
  {
   "cell_type": "markdown",
   "id": "85e3632f",
   "metadata": {},
   "source": [
    "#### Q7. How nominal data type is different from ordinal data type."
   ]
  },
  {
   "cell_type": "markdown",
   "id": "db12bc77",
   "metadata": {},
   "source": [
    "Nominal Data:\n",
    "- Consists of categories with no order or ranking.\n",
    "- Categories are distinct and represent different groups or labels.\n",
    "- Examples include gender, eye color etc\n",
    "\n",
    "Ordinal Data:\n",
    "- Consists of categories with a meaningful order or ranking.\n",
    "- Categories can be arranged from lowest to highest or vice versa.\n",
    "- Differences between categories may not be equal.\n",
    "- Examples include rankings, educational levels."
   ]
  },
  {
   "cell_type": "markdown",
   "id": "af0ac889",
   "metadata": {},
   "source": [
    "."
   ]
  },
  {
   "cell_type": "markdown",
   "id": "63d2da86",
   "metadata": {},
   "source": [
    "#### Q8. Which type of plot can be used to display data in terms of range?"
   ]
  },
  {
   "cell_type": "markdown",
   "id": "c2ccbc11",
   "metadata": {},
   "source": [
    "\n",
    "A type of plot commonly used to display data in terms of range is a box plot, also known as a box-and-whisker plot.\n",
    "A box plot provides a visual representation of the distribution of numerical data and displays the following key statistics: \n",
    "Median, Quartile , Minimum and Maximum values , Outliers"
   ]
  },
  {
   "cell_type": "markdown",
   "id": "0911851d",
   "metadata": {},
   "source": [
    "."
   ]
  },
  {
   "cell_type": "markdown",
   "id": "1d232be9",
   "metadata": {},
   "source": [
    "#### Q9. Describe the difference between descriptive and inferential statistics. Give an example of each type of statistics and explain how they are used."
   ]
  },
  {
   "cell_type": "markdown",
   "id": "8f7a7763",
   "metadata": {},
   "source": [
    "Descriptive statistics summarize data characteristics (e.g., mean, standard deviation), providing insights into the sample. For example, calculating the average test score in a class.\n",
    "\n",
    "Inferential statistics make predictions or inferences about a population based on sample data (e.g., hypothesis testing). For instance, determining if a new drug is effective based on results from a clinical trial."
   ]
  },
  {
   "cell_type": "markdown",
   "id": "03105421",
   "metadata": {},
   "source": [
    "."
   ]
  },
  {
   "cell_type": "markdown",
   "id": "920a7248",
   "metadata": {},
   "source": [
    "#### Q10. What are some common measures of central tendency and variability used in statistics? Explain how each measure can be used to describe a dataset."
   ]
  },
  {
   "cell_type": "markdown",
   "id": "ff00e9b7",
   "metadata": {},
   "source": [
    "\n",
    "Measures of Central Tendency:\n",
    "1. Mean: Average value of a dataset, providing a central value.\n",
    "2. Median: Middle value when data is arranged, less influenced by outliers.\n",
    "3. Mode: Most frequently occurring value, indicating the most common category or value.\n",
    "\n",
    "Measures of Variability:\n",
    "1. Range: Difference between maximum and minimum values, indicating spread.\n",
    "2. Variance: Average squared deviation from the mean, quantifying overall variability.\n",
    "3. Standard Deviation: Square root of variance, measuring average distance from the mean.\n"
   ]
  },
  {
   "cell_type": "code",
   "execution_count": null,
   "id": "9807a00a",
   "metadata": {},
   "outputs": [],
   "source": []
  }
 ],
 "metadata": {
  "kernelspec": {
   "display_name": "Python 3 (ipykernel)",
   "language": "python",
   "name": "python3"
  },
  "language_info": {
   "codemirror_mode": {
    "name": "ipython",
    "version": 3
   },
   "file_extension": ".py",
   "mimetype": "text/x-python",
   "name": "python",
   "nbconvert_exporter": "python",
   "pygments_lexer": "ipython3",
   "version": "3.11.4"
  }
 },
 "nbformat": 4,
 "nbformat_minor": 5
}
