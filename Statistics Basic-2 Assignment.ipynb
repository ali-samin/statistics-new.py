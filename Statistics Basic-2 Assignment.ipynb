{
 "cells": [
  {
   "cell_type": "markdown",
   "id": "b321442d",
   "metadata": {},
   "source": [
    "#### Q1. What are the three measures of central tendency?"
   ]
  },
  {
   "cell_type": "markdown",
   "id": "07704d53",
   "metadata": {},
   "source": [
    "The three measures of central tendency are:\n",
    "    1. Mean\n",
    "    2. Median\n",
    "    3. Mode"
   ]
  },
  {
   "cell_type": "markdown",
   "id": "b53e3a24",
   "metadata": {},
   "source": [
    "."
   ]
  },
  {
   "cell_type": "markdown",
   "id": "960ca691",
   "metadata": {},
   "source": [
    "#### Q2. What is the difference between the mean, median, and mode? How are they used to measure the\n",
    "central tendency of a dataset?"
   ]
  },
  {
   "cell_type": "markdown",
   "id": "317e5e02",
   "metadata": {},
   "source": [
    "Mean: The mean is the average of all the values in a dataset. It is calculated by summing up all the values and dividing by the total number of values.\n",
    "\n",
    "Median: The median is the middle value of a dataset when the values are arranged in ascending or descending order. If there is an even number of values, the median is the average of the two middle values. The median is not affected by extreme values (outliers) in the dataset.\n",
    "\n",
    "Mode: The mode is the value that occurs most frequently in a dataset. Unlike the mean and median, the mode can be applied to categorical data as well as numerical data. "
   ]
  },
  {
   "cell_type": "markdown",
   "id": "4d027ddc",
   "metadata": {},
   "source": [
    "."
   ]
  },
  {
   "cell_type": "markdown",
   "id": "71990a8d",
   "metadata": {},
   "source": [
    "#### Q3. Measure the three measures of central tendency for the given height data:"
   ]
  },
  {
   "cell_type": "code",
   "execution_count": 2,
   "id": "3f7fa0cf",
   "metadata": {},
   "outputs": [],
   "source": [
    "x= [178,177,176,177,178.2,178,175,179,180,175,178.9,176.2,177,172.5,178,176.5]"
   ]
  },
  {
   "cell_type": "code",
   "execution_count": 4,
   "id": "df43e383",
   "metadata": {},
   "outputs": [
    {
     "data": {
      "text/plain": [
       "177.01875"
      ]
     },
     "execution_count": 4,
     "metadata": {},
     "output_type": "execute_result"
    }
   ],
   "source": [
    "import numpy as np\n",
    "np.mean(x)"
   ]
  },
  {
   "cell_type": "code",
   "execution_count": 5,
   "id": "44c7fde1",
   "metadata": {},
   "outputs": [
    {
     "data": {
      "text/plain": [
       "177.0"
      ]
     },
     "execution_count": 5,
     "metadata": {},
     "output_type": "execute_result"
    }
   ],
   "source": [
    "np.median(x)"
   ]
  },
  {
   "cell_type": "code",
   "execution_count": 8,
   "id": "574104a7",
   "metadata": {},
   "outputs": [
    {
     "data": {
      "text/plain": [
       "ModeResult(mode=177.0, count=3)"
      ]
     },
     "execution_count": 8,
     "metadata": {},
     "output_type": "execute_result"
    }
   ],
   "source": [
    "from scipy import stats\n",
    "stats.mode(x)"
   ]
  },
  {
   "cell_type": "markdown",
   "id": "a5fb08b5",
   "metadata": {},
   "source": [
    "."
   ]
  },
  {
   "cell_type": "markdown",
   "id": "9615a8bd",
   "metadata": {},
   "source": [
    "#### Q4. Find the standard deviation for the given data:"
   ]
  },
  {
   "cell_type": "code",
   "execution_count": 9,
   "id": "8f02c502",
   "metadata": {},
   "outputs": [],
   "source": [
    "x= [178,177,176,177,178.2,178,175,179,180,175,178.9,176.2,177,172.5,178,176.5]"
   ]
  },
  {
   "cell_type": "code",
   "execution_count": 10,
   "id": "de927ce1",
   "metadata": {},
   "outputs": [
    {
     "data": {
      "text/plain": [
       "1.7885814036548633"
      ]
     },
     "execution_count": 10,
     "metadata": {},
     "output_type": "execute_result"
    }
   ],
   "source": [
    "np.std(x)"
   ]
  },
  {
   "cell_type": "markdown",
   "id": "b929d516",
   "metadata": {},
   "source": [
    "."
   ]
  },
  {
   "cell_type": "markdown",
   "id": "c70c1cf0",
   "metadata": {},
   "source": [
    "#### Q5. How are measures of dispersion such as range, variance, and standard deviation used to describe the spread of a dataset? Provide an example."
   ]
  },
  {
   "cell_type": "markdown",
   "id": "9c5df6d2",
   "metadata": {},
   "source": [
    "Range: The range is the simplest measure of dispersion and is calculated as the difference between the maximum and minimum values in the dataset. It gives an indication of the spread of the data across its entire range.\n",
    "\n",
    "Variance: Variance measures the average squared deviation of each data point from the mean of the dataset. It provides a more precise measure of dispersion compared to the range because it considers the differences of all data points from the mean.\n",
    "\n",
    "Standard Deviation: The standard deviation is the square root of the variance. It measures the average deviation of data points from the mean and is expressed in the same units as the original data. Standard deviation is widely used because it is more interpretable than variance. A smaller standard deviation indicates that the data points are closer to the mean, while a larger standard deviation indicates greater variability."
   ]
  },
  {
   "cell_type": "code",
   "execution_count": 15,
   "id": "5c12df3e",
   "metadata": {},
   "outputs": [],
   "source": [
    "# Example\n",
    "City= [20, 22, 21, 19, 23, 20, 21]"
   ]
  },
  {
   "cell_type": "code",
   "execution_count": 16,
   "id": "221f9c92",
   "metadata": {},
   "outputs": [
    {
     "data": {
      "text/plain": [
       "[20, 22, 21, 19, 23, 20, 21]"
      ]
     },
     "execution_count": 16,
     "metadata": {},
     "output_type": "execute_result"
    }
   ],
   "source": [
    "City"
   ]
  },
  {
   "cell_type": "code",
   "execution_count": 18,
   "id": "3c6e00fd",
   "metadata": {},
   "outputs": [
    {
     "data": {
      "text/plain": [
       "23"
      ]
     },
     "execution_count": 18,
     "metadata": {},
     "output_type": "execute_result"
    }
   ],
   "source": [
    "np.max(City)"
   ]
  },
  {
   "cell_type": "code",
   "execution_count": 19,
   "id": "30a58e23",
   "metadata": {},
   "outputs": [
    {
     "data": {
      "text/plain": [
       "19"
      ]
     },
     "execution_count": 19,
     "metadata": {},
     "output_type": "execute_result"
    }
   ],
   "source": [
    "np.min(City)"
   ]
  },
  {
   "cell_type": "code",
   "execution_count": 20,
   "id": "40d64e95",
   "metadata": {},
   "outputs": [
    {
     "data": {
      "text/plain": [
       "1.551020408163265"
      ]
     },
     "execution_count": 20,
     "metadata": {},
     "output_type": "execute_result"
    }
   ],
   "source": [
    "# variance\n",
    "np.var(City)"
   ]
  },
  {
   "cell_type": "code",
   "execution_count": 21,
   "id": "c359e3ad",
   "metadata": {},
   "outputs": [
    {
     "data": {
      "text/plain": [
       "1.2453996981544782"
      ]
     },
     "execution_count": 21,
     "metadata": {},
     "output_type": "execute_result"
    }
   ],
   "source": [
    "# Std\n",
    "np.std(City)"
   ]
  },
  {
   "cell_type": "markdown",
   "id": "9f62f7e8",
   "metadata": {},
   "source": [
    "."
   ]
  },
  {
   "cell_type": "markdown",
   "id": "6b2a31ca",
   "metadata": {},
   "source": [
    "#### Q6. What is a Venn diagram?"
   ]
  },
  {
   "cell_type": "markdown",
   "id": "6f0b5389",
   "metadata": {},
   "source": [
    "\n",
    "A Venn diagram is a graphical representation used to illustrate relationships between different sets or groups of items. It consists of circles, typically overlapping, where each circle represents a set and the overlapping areas represent intersections between the sets. The primary purpose of a Venn diagram is to visually demonstrate the similarities, differences, and intersections between various sets or groups of data. They are commonly used in mathematics, logic, statistics, and various fields of study to analyze and compare relationships between different categories or groups."
   ]
  },
  {
   "cell_type": "markdown",
   "id": "a2737128",
   "metadata": {},
   "source": [
    "."
   ]
  },
  {
   "cell_type": "markdown",
   "id": "ff41c5a9",
   "metadata": {},
   "source": [
    "#### Q7. For the two given sets A = (2,3,4,5,6,7) & B = (0,2,6,8,10). Find:\n",
    "(i) A intersection B\n",
    "\n",
    "(ii) A ⋃ B"
   ]
  },
  {
   "cell_type": "markdown",
   "id": "e6b46b98",
   "metadata": {},
   "source": [
    "(i). (2,6)"
   ]
  },
  {
   "cell_type": "markdown",
   "id": "376d2333",
   "metadata": {},
   "source": [
    "(ii). (0,2,3,4,5,6,7,8,10)"
   ]
  },
  {
   "cell_type": "markdown",
   "id": "3570ce6b",
   "metadata": {},
   "source": [
    "."
   ]
  },
  {
   "cell_type": "markdown",
   "id": "9347ba5f",
   "metadata": {},
   "source": [
    "#### Q8. What do you understand about skewness in data?"
   ]
  },
  {
   "cell_type": "markdown",
   "id": "625d92f8",
   "metadata": {},
   "source": [
    "\n",
    "Skewness in data refers to the asymmetry or lack of symmetry in the distribution of values within a dataset. It is a measure of the extent to which the data deviates from a symmetrical distribution around the mean."
   ]
  },
  {
   "cell_type": "markdown",
   "id": "3d6de13b",
   "metadata": {},
   "source": [
    "."
   ]
  },
  {
   "cell_type": "markdown",
   "id": "6018fb50",
   "metadata": {},
   "source": [
    "#### Q9. If a data is right skewed then what will be the position of median with respect to mean?"
   ]
  },
  {
   "cell_type": "markdown",
   "id": "d1a01d98",
   "metadata": {},
   "source": [
    "Right-skewed is define as the longer or fatter tail on the right side of the distribution, the position of the median with respect to the mean will typically be to the left of the mean.\n",
    "\n",
    "In a right-skewed distribution:\n",
    "- The tail on the right side contains relatively very large values, which pull the mean towards the right.\n",
    "- The majority of the data points are concentrated on the left side of the distribution, which affects the median.\n",
    "- Since the median represents the middle value of the dataset when arranged in ascending or descending order, it is less influenced by extreme values in the right tail compared to the mean.\n",
    "- Therefore, in a right-skewed distribution, the median will typically be to the left of the mean."
   ]
  },
  {
   "cell_type": "markdown",
   "id": "f56718fb",
   "metadata": {},
   "source": [
    "."
   ]
  },
  {
   "cell_type": "markdown",
   "id": "f90b1dda",
   "metadata": {},
   "source": [
    "#### Q10. Explain the difference between covariance and correlation. How are these measures used in statistical analysis?"
   ]
  },
  {
   "cell_type": "markdown",
   "id": "957b99b7",
   "metadata": {},
   "source": [
    "\n",
    "Covariance and correlation are both measures used to describe the relationship between two variables in a dataset:\n",
    "\n",
    "- Covariance measures the degree to which two variables change together. It indicates the direction of the linear relationship between two variables. However, the magnitude of covariance depends on the scale of the variables, making it challenging to interpret.\n",
    "\n",
    "- Correlation, on the other hand, standardizes covariance by dividing it by the product of the standard deviations of the variables. This results in a correlation coefficient that ranges from -1 to 1. A correlation of 1 indicates a perfect positive linear relationship, -1 indicates a perfect negative linear relationship, and 0 indicates no linear relationship\n"
   ]
  },
  {
   "cell_type": "markdown",
   "id": "bd86d5d0",
   "metadata": {},
   "source": [
    "."
   ]
  },
  {
   "cell_type": "markdown",
   "id": "c6f5e9c1",
   "metadata": {},
   "source": [
    "#### Q11. What is the formula for calculating the sample mean? Provide an example calculation for a   dataset."
   ]
  },
  {
   "cell_type": "markdown",
   "id": "0fdb1fde",
   "metadata": {},
   "source": [
    "\n",
    "The formula for calculating the sample mean (average) of a dataset is:\n",
    "\n",
    "Sample Mean = sum of all the elements / number of elements"
   ]
  },
  {
   "cell_type": "code",
   "execution_count": 35,
   "id": "66e2994e",
   "metadata": {},
   "outputs": [],
   "source": [
    "# Example\n",
    "data=[75,82,90,68,88]"
   ]
  },
  {
   "cell_type": "code",
   "execution_count": 36,
   "id": "c0e42bc7",
   "metadata": {},
   "outputs": [
    {
     "data": {
      "text/plain": [
       "403"
      ]
     },
     "execution_count": 36,
     "metadata": {},
     "output_type": "execute_result"
    }
   ],
   "source": [
    "# sum of all the elements\n",
    "sum = 75+82+90+68+88\n",
    "sum"
   ]
  },
  {
   "cell_type": "code",
   "execution_count": 37,
   "id": "d54d3f05",
   "metadata": {},
   "outputs": [],
   "source": [
    "# total element in the data \n",
    "total = 5"
   ]
  },
  {
   "cell_type": "code",
   "execution_count": 38,
   "id": "4cfb5e3e",
   "metadata": {},
   "outputs": [],
   "source": [
    "mean = sum/total"
   ]
  },
  {
   "cell_type": "code",
   "execution_count": 39,
   "id": "39604054",
   "metadata": {},
   "outputs": [
    {
     "data": {
      "text/plain": [
       "80.6"
      ]
     },
     "execution_count": 39,
     "metadata": {},
     "output_type": "execute_result"
    }
   ],
   "source": [
    "# so the mean of the data is\n",
    "mean"
   ]
  },
  {
   "cell_type": "markdown",
   "id": "9e60f5fc",
   "metadata": {},
   "source": [
    "."
   ]
  },
  {
   "cell_type": "markdown",
   "id": "440685f6",
   "metadata": {},
   "source": [
    "#### Q12. For a normal distribution data what is the relationship between its measure of central tendency?"
   ]
  },
  {
   "cell_type": "markdown",
   "id": "f0f3c077",
   "metadata": {},
   "source": [
    "\n",
    "For a normal distribution, the relationship between its measures of central tendency (mean, median, and mode) is as follows:\n",
    "\n",
    "The mean of a normal distribution is equal to its median, and it is also equal to its mode. In other words, in a perfectly symmetrical normal distribution, the mean, median, and mode are all located at the center of the distribution.\n",
    "\n",
    "Mean = Median = Mode"
   ]
  },
  {
   "cell_type": "markdown",
   "id": "b8518350",
   "metadata": {},
   "source": [
    "."
   ]
  },
  {
   "cell_type": "markdown",
   "id": "a7f25020",
   "metadata": {},
   "source": [
    "#### Q13. How is covariance different from correlation?"
   ]
  },
  {
   "cell_type": "markdown",
   "id": "9ad4acbb",
   "metadata": {},
   "source": [
    "Covariance measures how two variables change together but doesn't indicate the strength or direction of the relationship.\n",
    "\n",
    "Correlation is a standardized measure of covariance that ranges from -1 to 1, indicating the strength and direction of the linear relationship between variables"
   ]
  },
  {
   "cell_type": "markdown",
   "id": "ea2555fa",
   "metadata": {},
   "source": [
    "."
   ]
  },
  {
   "cell_type": "markdown",
   "id": "543c5a1c",
   "metadata": {},
   "source": [
    "#### Q14. How do outliers affect measures of central tendency and dispersion? Provide an example."
   ]
  },
  {
   "cell_type": "markdown",
   "id": "6c3ef2d6",
   "metadata": {},
   "source": [
    "Outliers can heavily influence the mean, pulling it towards them and distorting it.\n",
    "The median is less affected by outliers because it represents the middle value.\n",
    "Outliers can greatly impact the range, variance, and standard deviation, inflating these measures and overestimating the spread of the data."
   ]
  },
  {
   "cell_type": "code",
   "execution_count": 41,
   "id": "5a1dacda",
   "metadata": {},
   "outputs": [],
   "source": [
    "# Example"
   ]
  },
  {
   "cell_type": "code",
   "execution_count": 42,
   "id": "187b2ac2",
   "metadata": {},
   "outputs": [],
   "source": [
    "data = [20,25,30,35,40,45,50,55,60,1000]"
   ]
  },
  {
   "cell_type": "markdown",
   "id": "929344d7",
   "metadata": {},
   "source": [
    "##### mean , median and mode Without the outliers  (1000)"
   ]
  },
  {
   "cell_type": "code",
   "execution_count": 47,
   "id": "d104689b",
   "metadata": {},
   "outputs": [
    {
     "name": "stdout",
     "output_type": "stream",
     "text": [
      "Mean without outliers present =  40.0\n",
      "Median without outliers present =  40.0\n",
      "Mode without outliers present =  ModeResult(mode=20, count=1)\n"
     ]
    }
   ],
   "source": [
    "data = [20,25,30,35,40,45,50,55,60]\n",
    "print(\"Mean without outliers present = \",np.mean(data))\n",
    "print(\"Median without outliers present = \",np.median(data))\n",
    "print(\"Mode without outliers present = \",stats.mode(data))"
   ]
  },
  {
   "cell_type": "markdown",
   "id": "e7883b34",
   "metadata": {},
   "source": [
    "##### mean, median and mode with the outliers (1000)"
   ]
  },
  {
   "cell_type": "code",
   "execution_count": 48,
   "id": "d54a0600",
   "metadata": {},
   "outputs": [
    {
     "name": "stdout",
     "output_type": "stream",
     "text": [
      "Mean when outliers is present =  136.0\n",
      "Median when outliers is present =  42.5\n",
      "Mode when outliers is present =  ModeResult(mode=20, count=1)\n"
     ]
    }
   ],
   "source": [
    "data = [20,25,30,35,40,45,50,55,60,1000]\n",
    "print(\"Mean when outliers is present = \",np.mean(data))\n",
    "print(\"Median when outliers is present = \",np.median(data))\n",
    "print(\"Mode when outliers is present = \",stats.mode(data))"
   ]
  },
  {
   "cell_type": "markdown",
   "id": "28677178",
   "metadata": {},
   "source": [
    "- without the outlier the mean is 40 and with the outliers the mean becomes 136 which is significantly higher.\n",
    "- The median is 40 without the outlier, and it remains 42 even with the outlier because it is not affected by extreme values.\n",
    "- The mode remains 20 without the outlier, and it doesn't change even with the outlier"
   ]
  },
  {
   "cell_type": "markdown",
   "id": "f6b4c3f1",
   "metadata": {},
   "source": [
    "Range: Without the outlier, the range is 60 − 20 = 40\n",
    "but with the outlier, it becomes  1000−20= 980."
   ]
  },
  {
   "cell_type": "markdown",
   "id": "9933a780",
   "metadata": {},
   "source": [
    "Variance and Standard Deviation: Both the variance and standard deviation increase significantly with the outlier, indicating a larger spread of the data."
   ]
  },
  {
   "cell_type": "code",
   "execution_count": null,
   "id": "ea4b07eb",
   "metadata": {},
   "outputs": [],
   "source": []
  }
 ],
 "metadata": {
  "kernelspec": {
   "display_name": "Python 3 (ipykernel)",
   "language": "python",
   "name": "python3"
  },
  "language_info": {
   "codemirror_mode": {
    "name": "ipython",
    "version": 3
   },
   "file_extension": ".py",
   "mimetype": "text/x-python",
   "name": "python",
   "nbconvert_exporter": "python",
   "pygments_lexer": "ipython3",
   "version": "3.11.4"
  }
 },
 "nbformat": 4,
 "nbformat_minor": 5
}
